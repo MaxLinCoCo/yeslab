{
 "cells": [
  {
   "cell_type": "markdown",
   "metadata": {},
   "source": [
    "# Python与Numpy"
   ]
  },
  {
   "cell_type": "code",
   "execution_count": 7,
   "metadata": {},
   "outputs": [],
   "source": [
    "import numpy as np"
   ]
  },
  {
   "cell_type": "markdown",
   "metadata": {},
   "source": [
    "## 创建矩阵\n",
    "* 纯手工创建\n",
    "* 全 0 矩阵\n",
    "* 全 1 矩阵\n",
    "* 全随机浮点数矩阵\n",
    "* 全随机整数矩阵"
   ]
  },
  {
   "cell_type": "code",
   "execution_count": 57,
   "metadata": {},
   "outputs": [],
   "source": [
    "A = np.array([[1,2],[3,4]])\n",
    "B = np.zeros((3,4))\n",
    "C = np.ones((4,3))\n",
    "D = np.random.random((3,3))\n",
    "E = np.random.random((3,3)) * 900 + 100\n",
    "F = np.random.randint(3, 5, (4,4))"
   ]
  },
  {
   "cell_type": "markdown",
   "metadata": {},
   "source": [
    "## 矩阵运算\n",
    "* 矩阵加减法\n",
    "* 矩阵乘法\n",
    "* 矩阵转置\n",
    "\n",
    "### 矩阵与数、矢量的加减法"
   ]
  },
  {
   "cell_type": "code",
   "execution_count": 69,
   "metadata": {},
   "outputs": [
    {
     "name": "stdout",
     "output_type": "stream",
     "text": [
      "[[0.30318662 0.74063076 0.45633387]\n",
      " [0.55211552 0.61155488 0.41359627]\n",
      " [0.92585168 0.67059417 0.00598152]]\n"
     ]
    }
   ],
   "source": [
    "num = 9\n",
    "array = np.array([[2],[3],[2]])\n",
    "M_A = np.ones((3,3))\n",
    "M_B = np.random.random((3,3))\n",
    "\n",
    "# 数和矩阵加减法\n",
    "print(num + M_A)\n",
    "print(num - M_A)\n",
    "\n",
    "# 矢量和矩阵的加减法\n",
    "print(M_A + array)\n",
    "print(M_A - array)\n",
    "\n",
    "# 矩阵加减法\n",
    "print(M_A + M_B)\n",
    "print(M_A - M_B)"
   ]
  },
  {
   "cell_type": "markdown",
   "metadata": {},
   "source": [
    "### 矩阵与数、矢量的乘法"
   ]
  },
  {
   "cell_type": "code",
   "execution_count": 79,
   "metadata": {},
   "outputs": [
    {
     "name": "stdout",
     "output_type": "stream",
     "text": [
      "[[9. 9. 9.]\n",
      " [9. 9. 9.]\n",
      " [9. 9. 9.]]\n",
      "[[2. 2. 2.]\n",
      " [3. 3. 3.]\n",
      " [2. 2. 2.]]\n",
      "[[0.43546241 0.78469826 0.94271567]\n",
      " [0.33905065 0.23244069 0.95020269]\n",
      " [0.8762751  0.291668   0.08290365]]\n",
      "[[7.]\n",
      " [7.]\n",
      " [7.]]\n",
      "[[1.65078816 1.30880695 1.97582201]\n",
      " [1.65078816 1.30880695 1.97582201]\n",
      " [1.65078816 1.30880695 1.97582201]]\n"
     ]
    }
   ],
   "source": [
    "num = 9\n",
    "array = np.array([[2],[3],[2]])\n",
    "M_A = np.ones((3,3))\n",
    "M_B = np.random.random((3,3))\n",
    "\n",
    "# 数和矩阵的乘法\n",
    "print(M_A * num)\n",
    "\n",
    "# 矢量和矩阵的积\n",
    "print(M_A * array)\n",
    "\n",
    "# 矩阵和矩阵的积\n",
    "print(M_A * M_B)\n",
    "\n",
    "# 矢量和矩阵的乘法\n",
    "print(M_A.dot(array))\n",
    "\n",
    "# 矩阵和矩阵的乘法\n",
    "print(M_A.dot(M_B))"
   ]
  },
  {
   "cell_type": "code",
   "execution_count": 81,
   "metadata": {},
   "outputs": [],
   "source": [
    "MX_A = np.random.random((7,10))\n",
    "MX_B = np.random.random((10,3))\n",
    "MX_C = MX_A.dot(MX_B)"
   ]
  },
  {
   "cell_type": "markdown",
   "metadata": {},
   "source": [
    "### 矩阵的转置"
   ]
  },
  {
   "cell_type": "code",
   "execution_count": 90,
   "metadata": {},
   "outputs": [
    {
     "name": "stdout",
     "output_type": "stream",
     "text": [
      "(7, 3)\n",
      "(3, 7)\n"
     ]
    }
   ],
   "source": [
    "print(MX_C.shape)\n",
    "MX_D = MX_C.T\n",
    "print(MX_D.shape)"
   ]
  }
 ],
 "metadata": {
  "kernelspec": {
   "display_name": "Python 3",
   "language": "python",
   "name": "python3"
  },
  "language_info": {
   "codemirror_mode": {
    "name": "ipython",
    "version": 3
   },
   "file_extension": ".py",
   "mimetype": "text/x-python",
   "name": "python",
   "nbconvert_exporter": "python",
   "pygments_lexer": "ipython3",
   "version": "3.7.4"
  }
 },
 "nbformat": 4,
 "nbformat_minor": 2
}
