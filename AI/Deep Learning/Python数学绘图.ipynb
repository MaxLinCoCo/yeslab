{
 "cells": [
  {
   "cell_type": "markdown",
   "metadata": {},
   "source": [
    "# Python 数学绘图"
   ]
  },
  {
   "cell_type": "code",
   "execution_count": 2,
   "metadata": {},
   "outputs": [],
   "source": [
    "import matplotlib.pyplot as plt\n",
    "import numpy as np"
   ]
  },
  {
   "cell_type": "markdown",
   "metadata": {},
   "source": [
    "## 创建数据"
   ]
  },
  {
   "cell_type": "code",
   "execution_count": 43,
   "metadata": {},
   "outputs": [],
   "source": [
    "A = np.array([[1,2],[3,5],[2,4]])\n",
    "B = np.array([[5,2],[1,6],[3,9],[7,3]])"
   ]
  },
  {
   "cell_type": "markdown",
   "metadata": {},
   "source": [
    "## 建立绘图\n",
    "* 坐标系制作\n",
    "* 数据分布\n",
    "* 函数编写\n",
    "* 画散点图\n",
    "* 画函数图"
   ]
  },
  {
   "cell_type": "code",
   "execution_count": 84,
   "metadata": {},
   "outputs": [],
   "source": [
    "def plot_point(a_array, b_array):\n",
    "    # 坐标系制作\n",
    "    plt.xlim((0,10))\n",
    "    plt.ylim((0,10))\n",
    "    plt.xlabel('x')\n",
    "    plt.ylabel('y')\n",
    "    \n",
    "    # 数据分布\n",
    "    X = np.linspace(0,10,100)\n",
    "    \n",
    "    # 函数编写\n",
    "    func_y = 3*X+1\n",
    "    \n",
    "    # 画散点图\n",
    "    plt.plot(a_array[:,0], a_array[:,1], 'ro')\n",
    "    plt.plot(b_array[:,0], b_array[:,1], 'gx')\n",
    "    \n",
    "    # 函数图\n",
    "    plt.plot(X, func_y, 'b-')\n",
    "    \n",
    "    # 合理显示图像\n",
    "    plt.show()"
   ]
  },
  {
   "cell_type": "code",
   "execution_count": 85,
   "metadata": {
    "scrolled": true
   },
   "outputs": [
    {
     "data": {
      "image/png": "[encoded data removed]",
      "text/plain": [
       "<Figure size 432x288 with 1 Axes>"
      ]
     },
     "metadata": {},
     "output_type": "display_data"
    }
   ],
   "source": [
    "plot_point(A,B)"
   ]
  }
 ],
 "metadata": {
  "kernelspec": {
   "display_name": "Python 3",
   "language": "python",
   "name": "python3"
  },
  "language_info": {
   "codemirror_mode": {
    "name": "ipython",
    "version": 3
   },
   "file_extension": ".py",
   "mimetype": "text/x-python",
   "name": "python",
   "nbconvert_exporter": "python",
   "pygments_lexer": "ipython3",
   "version": "3.7.4"
  }
 },
 "nbformat": 4,
 "nbformat_minor": 2
}
