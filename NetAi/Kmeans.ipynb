{
 "cells": [
  {
   "cell_type": "markdown",
   "metadata": {},
   "source": [
    "# 非监督聚类：Kmeans"
   ]
  },
  {
   "cell_type": "code",
   "execution_count": 1,
   "metadata": {},
   "outputs": [],
   "source": [
    "import numpy as np\n",
    "from sklearn.cluster import KMeans\n",
    "from sklearn import datasets\n",
    "import matplotlib.pyplot as plt"
   ]
  },
  {
   "cell_type": "code",
   "execution_count": 2,
   "metadata": {},
   "outputs": [],
   "source": [
    "iris = datasets.load_iris()\n",
    "train_x = iris.data[0:120]\n",
    "train_y = iris.target[0:120]\n",
    "test_x = iris.data[120:]\n",
    "test_y = iris.target[120:]"
   ]
  },
  {
   "cell_type": "code",
   "execution_count": 16,
   "metadata": {},
   "outputs": [],
   "source": [
    "def create_plt_data(data, y):\n",
    "    class_a = []\n",
    "    class_b = []\n",
    "    class_c = []\n",
    "    for index in range(data.shape[0]):\n",
    "        try:\n",
    "            if y[index] == 0:\n",
    "                class_a.append(data[index])\n",
    "            elif y[index] == 1:\n",
    "                class_b.append(data[index])\n",
    "            elif y[index] == 2:\n",
    "                class_c.append(data[index])\n",
    "        except:\n",
    "            print(\"Data has error.\")\n",
    "    return class_a, class_b, class_c"
   ]
  },
  {
   "cell_type": "code",
   "execution_count": 17,
   "metadata": {},
   "outputs": [],
   "source": [
    "kmean = KMeans(n_clusters=3, random_state=0).fit(train_x)\n",
    "train_result = kmean.predict(train_x)\n",
    "test_result = kmean.predict(test_x)"
   ]
  },
  {
   "cell_type": "markdown",
   "metadata": {},
   "source": [
    "## 使用原数据标签进行分色绘图"
   ]
  },
  {
   "cell_type": "code",
   "execution_count": 18,
   "metadata": {},
   "outputs": [
    {
     "data": {
      "image/png": "[encoded data removed]",
      "text/plain": [
       "<Figure size 432x288 with 1 Axes>"
      ]
     },
     "metadata": {
      "needs_background": "light"
     },
     "output_type": "display_data"
    }
   ],
   "source": [
    "class_a, class_b, class_c = create_plt_data(train_x, train_y)\n",
    "a_var, a_mean = np.var(class_a,axis=1), np.mean(class_a,axis=1)\n",
    "b_var, b_mean = np.var(class_b,axis=1), np.mean(class_b,axis=1)\n",
    "c_var, c_mean = np.var(class_c,axis=1), np.mean(class_c,axis=1)\n",
    "plt.plot(a_var, a_mean, 'or')\n",
    "plt.plot(b_var, b_mean, 'og')\n",
    "plt.plot(c_var, c_mean, 'ob')\n",
    "plt.show()"
   ]
  },
  {
   "cell_type": "markdown",
   "metadata": {},
   "source": [
    "### 使用 Kmeans 分类后的标签进行分色绘图"
   ]
  },
  {
   "cell_type": "code",
   "execution_count": 19,
   "metadata": {
    "scrolled": false
   },
   "outputs": [
    {
     "data": {
      "image/png": "[encoded data removed]",
      "text/plain": [
       "<Figure size 432x288 with 1 Axes>"
      ]
     },
     "metadata": {
      "needs_background": "light"
     },
     "output_type": "display_data"
    }
   ],
   "source": [
    "class_a, class_b, class_c = create_plt_data(train_x,train_result)\n",
    "a_var, a_mean = np.var(class_a,axis=1), np.mean(class_a,axis=1)\n",
    "b_var, b_mean = np.var(class_b,axis=1), np.mean(class_b,axis=1)\n",
    "c_var, c_mean = np.var(class_c,axis=1), np.mean(class_c,axis=1)\n",
    "plt.plot(a_var, a_mean, 'or')\n",
    "plt.plot(b_var, b_mean, 'og')\n",
    "plt.plot(c_var, c_mean, 'ob')\n",
    "plt.show()"
   ]
  }
 ],
 "metadata": {
  "kernelspec": {
   "display_name": "Python 3",
   "language": "python",
   "name": "python3"
  },
  "language_info": {
   "codemirror_mode": {
    "name": "ipython",
    "version": 3
   },
   "file_extension": ".py",
   "mimetype": "text/x-python",
   "name": "python",
   "nbconvert_exporter": "python",
   "pygments_lexer": "ipython3",
   "version": "3.7.4"
  }
 },
 "nbformat": 4,
 "nbformat_minor": 2
}
