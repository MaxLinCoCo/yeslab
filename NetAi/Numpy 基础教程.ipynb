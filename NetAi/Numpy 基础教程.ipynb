{
 "cells": [
  {
   "cell_type": "markdown",
   "metadata": {},
   "source": [
    "![numpy](assets/numpy.png)"
   ]
  },
  {
   "cell_type": "code",
   "execution_count": 1,
   "metadata": {},
   "outputs": [],
   "source": [
    "import numpy as np"
   ]
  },
  {
   "cell_type": "markdown",
   "metadata": {},
   "source": [
    "## 数据以矩阵的形式存在"
   ]
  },
  {
   "cell_type": "code",
   "execution_count": 54,
   "metadata": {},
   "outputs": [],
   "source": [
    "file = open('data/log')\n",
    "res = file.readlines()\n",
    "datas = []\n",
    "for re in res:\n",
    "    new_line = re.split('\\n')[0][1:]\n",
    "    month, date, time, log_type = new_line.split(' ')[0:4]\n",
    "    data = new_line.split(': ',2)[2]\n",
    "    datas.append([month, date, time[0:-1], log_type[1:-1], data])"
   ]
  },
  {
   "cell_type": "code",
   "execution_count": 55,
   "metadata": {},
   "outputs": [
    {
     "data": {
      "text/plain": [
       "(74, 5)"
      ]
     },
     "execution_count": 55,
     "metadata": {},
     "output_type": "execute_result"
    }
   ],
   "source": [
    "npdatas = np.array(datas)\n",
    "npdatas.shape"
   ]
  },
  {
   "cell_type": "code",
   "execution_count": 56,
   "metadata": {},
   "outputs": [],
   "source": [
    "_dates = np.expand_dims(npdatas[:,1], 1)\n",
    "_datas = np.expand_dims(npdatas[:,4], 1)\n",
    "new_datas = np.hstack((_dates, _datas))"
   ]
  },
  {
   "cell_type": "code",
   "execution_count": 57,
   "metadata": {},
   "outputs": [
    {
     "data": {
      "text/plain": [
       "(74, 2)"
      ]
     },
     "execution_count": 57,
     "metadata": {},
     "output_type": "execute_result"
    }
   ],
   "source": [
    "new_datas.shape"
   ]
  },
  {
   "cell_type": "markdown",
   "metadata": {},
   "source": [
    "## 创建矩阵\n",
    "* 纯手工创建\n",
    "* 全 0 矩阵\n",
    "* 全 1 矩阵\n",
    "* 全随机浮点数矩阵\n",
    "* 全随机整数矩阵"
   ]
  },
  {
   "cell_type": "code",
   "execution_count": 29,
   "metadata": {},
   "outputs": [],
   "source": [
    "A = np.array([[1,2],[3,4]])\n",
    "B = np.zeros((3,4))\n",
    "C = np.ones((4,3))\n",
    "D = np.random.random((3,3))\n",
    "E = np.random.random((3,3)) * 900 + 100\n",
    "F = np.random.randint(100, 1000, (4,4))"
   ]
  },
  {
   "cell_type": "code",
   "execution_count": 49,
   "metadata": {},
   "outputs": [],
   "source": [
    "char_list = ['A','B','C','D','E','F','G','H']\n",
    "\n",
    "def create_password(char_list, pass_len=8, str_len=6, num_len=4):\n",
    "    password_str = np.random.choice(char_list, str_len, replace=False)\n",
    "    password_num = np.random.choice(10, num_len, replace=False)\n",
    "    password_chars = np.hstack((password_str, password_num))\n",
    "    pass_list = password_chars.tolist()\n",
    "    new_pass_list = np.random.choice(pass_list, pass_len).tolist()\n",
    "    password = ''.join(new_pass_list)\n",
    "    return password"
   ]
  },
  {
   "cell_type": "code",
   "execution_count": 52,
   "metadata": {},
   "outputs": [],
   "source": [
    "password_database = []\n",
    "for _ in range(100):\n",
    "    password = create_password(char_list)\n",
    "    password_database.append(password)"
   ]
  },
  {
   "cell_type": "code",
   "execution_count": 53,
   "metadata": {
    "scrolled": true
   },
   "outputs": [
    {
     "data": {
      "text/plain": [
       "['92B1A921',\n",
       " '5HHD85D2',\n",
       " '3CHAD06H',\n",
       " '5EE80CHH',\n",
       " 'HBBHFBGC',\n",
       " '5EED4GG7',\n",
       " 'EAG31A89',\n",
       " 'E54C0CE5',\n",
       " 'B77BCC74',\n",
       " 'G42BA254',\n",
       " 'A5BEDEC9',\n",
       " 'FCC0F00E',\n",
       " 'BBH5B7FB',\n",
       " '3E92FA83',\n",
       " 'GFFGEAB9',\n",
       " 'AB983H8H',\n",
       " '0H1BF9H9',\n",
       " 'GG5EE4E4',\n",
       " '01G01F9H',\n",
       " 'B2BEFE17',\n",
       " 'DE0EFADA',\n",
       " 'CBE08DCB',\n",
       " '8E9ED9B8',\n",
       " 'HAFFH3AC',\n",
       " 'CB4CA4DD',\n",
       " '8B44BE4F',\n",
       " 'DGBB3A45',\n",
       " '4A2122F2',\n",
       " '6A46AFFG',\n",
       " '6ACB4942',\n",
       " 'CG3CAA7F',\n",
       " '3C2H3CDE',\n",
       " 'CDB4E9BH',\n",
       " 'D1HF0B1A',\n",
       " '11ADD9A9',\n",
       " 'HFFB88F8',\n",
       " 'BECBGE40',\n",
       " 'E47B4D77',\n",
       " '78G6CACC',\n",
       " 'C3E7EHCG',\n",
       " '2D5EHE51',\n",
       " '744EHG67',\n",
       " '8E97AFC6',\n",
       " '16HBBA41',\n",
       " '09A9800E',\n",
       " 'G8BBG5EB',\n",
       " 'H70DH3G0',\n",
       " '18B1HBE9',\n",
       " 'ACE9G2GC',\n",
       " 'FADADD3F',\n",
       " 'A2HFCCAG',\n",
       " '9HA18CG1',\n",
       " 'B55B3CH0',\n",
       " 'FC4G9H49',\n",
       " '99CFFG5F',\n",
       " '33C8D8F6',\n",
       " 'C1D17EEC',\n",
       " 'GG93HBEB',\n",
       " '9BDEAF4E',\n",
       " '3C22A9CB',\n",
       " 'C4F9BAGE',\n",
       " '2DB4AA3B',\n",
       " 'B47F72A2',\n",
       " 'FD7GB4F8',\n",
       " 'B02EAC0D',\n",
       " 'C55FC552',\n",
       " '0C800B00',\n",
       " 'A5HA5E3C',\n",
       " 'B121DC1F',\n",
       " '1E9BB1EA',\n",
       " '78FHDB9F',\n",
       " '9FGFE7E8',\n",
       " '2C012C12',\n",
       " '4BBB6B44',\n",
       " '3010B111',\n",
       " '9H5951A4',\n",
       " 'CGAF0GCA',\n",
       " 'E99F08G3',\n",
       " 'F5G6AFCH',\n",
       " '00900GCA',\n",
       " 'AFGGDHAF',\n",
       " 'HHF605HF',\n",
       " 'AE73GDAG',\n",
       " 'FC1AD3DB',\n",
       " 'CC67EB7E',\n",
       " 'HBA2F2BA',\n",
       " 'CHE40C0A',\n",
       " '2E2EAA76',\n",
       " '76F60FCF',\n",
       " 'B41G65HE',\n",
       " 'CH0H521G',\n",
       " 'BBE11HED',\n",
       " 'GDF5HF9H',\n",
       " '39FB62HF',\n",
       " '8H4142BC',\n",
       " '885575AG',\n",
       " '7CB84FBD',\n",
       " 'CCA9FCCG',\n",
       " 'FFEC03F2',\n",
       " 'DG0ECGA3']"
      ]
     },
     "execution_count": 53,
     "metadata": {},
     "output_type": "execute_result"
    }
   ],
   "source": [
    "password_database"
   ]
  },
  {
   "cell_type": "markdown",
   "metadata": {},
   "source": [
    "## 作业 - 数据标签"
   ]
  },
  {
   "cell_type": "code",
   "execution_count": 59,
   "metadata": {},
   "outputs": [],
   "source": [
    "file = open('data/log')\n",
    "res = file.readlines()\n",
    "datas = []\n",
    "for re in res:\n",
    "    new_line = re.split('\\n')[0][1:]\n",
    "    month, date, time, log_type = new_line.split(' ')[0:4]\n",
    "    data = new_line.split(': ',2)[2]\n",
    "    datas.append([month, date, time[0:-1], log_type[1:-1], data])\n",
    "    \n",
    "npdatas = np.array(datas)"
   ]
  },
  {
   "cell_type": "code",
   "execution_count": 63,
   "metadata": {},
   "outputs": [
    {
     "data": {
      "text/plain": [
       "['*Jan 26 06:53:11: %SYS-6-LOGGINGHOST_STARTSTOP: Logging to host 110.186.35.237 Port 514 started - CLI initiated\\n',\n",
       " '*Jan 26 06:53:10: %SYS-SPSTBY-3-LOGGER_FLUSHED: System was paused for 00:00:00 to ensure console debugging output.\\n',\n",
       " \"*Jan 26 06:53:11: %OIR-SP-3-PWRCYCLE: Card in module 5, is being power-cycled 'Switchover'\\n\",\n",
       " '*Jan 26 06:53:12: %SNMP-5-MODULETRAP: Module 5 [Down] Trap\\n',\n",
       " '*Jan 26 06:53:12: %SNMP-5-MODULETRAP: Module 6 [Up] Trap\\n',\n",
       " '*Jan 26 06:53:12: %C6KPWR-SP-4-PSOK: power supply 1 turned on.\\n',\n",
       " '*Jan 26 06:53:12: %C6KPWR-SP-4-PSOK: power supply 2 turned on.\\n',\n",
       " '*Jan 26 06:53:13: %SNMP-5-MODULETRAP: Module 3 [Up] Trap\\n',\n",
       " '*Jan 26 06:53:13: %SNMP-5-MODULETRAP: Module 4 [Up] Trap\\n',\n",
       " '*Jan 26 06:53:13: %SNMP-5-MODULETRAP: Module 7 [Up] Trap\\n',\n",
       " '*Jan 26 06:53:13: %SNMP-5-MODULETRAP: Module 2 [Up] Trap\\n',\n",
       " '*Jan 26 06:53:12: %OIR-SP-6-DOWNGRADE_EARL: Module 7 DFC installed is not identical to system PFC and will perform at current system operating mode.\\n',\n",
       " '*Jan 26 06:53:12: %OIR-SP-6-INSCARD: Card inserted in slot 6, interfaces are now online\\n',\n",
       " '*Jan 26 06:53:13: %OIR-SP-6-INSCARD: Card inserted in slot 3, interfaces are now online\\n',\n",
       " '*Jan 26 06:53:13: %OIR-SP-6-INSCARD: Card inserted in slot 4, interfaces are now online\\n',\n",
       " '*Jan 26 06:53:13: %OIR-SP-6-INSCARD: Card inserted in slot 7, interfaces are now online\\n',\n",
       " '*Jan 26 06:53:13: %OIR-SP-6-INSCARD: Card inserted in slot 2, interfaces are now online\\n',\n",
       " '*Jan 26 06:53:14: %SNMP-5-MODULETRAP: Module 1 [Up] Trap\\n',\n",
       " '*Jan 26 06:53:14: %OIR-SP-6-INSCARD: Card inserted in slot 1, interfaces are now online\\n',\n",
       " '*Jan 26 06:53:16: %OSPF-5-ADJCHG: Process 1, Nbr 110.79.135.33 on Vlan168 from LOADING to FULL, Loading Done\\n',\n",
       " '*Jan 26 06:53:16: %OSPF-5-ADJCHG: Process 1, Nbr 110.79.135.33 on Vlan165 from LOADING to FULL, Loading Done\\n',\n",
       " '*Jan 26 06:53:17: %OSPF-5-ADJCHG: Process 1, Nbr 110.79.135.33 on GigabitEthernet2/3 from LOADING to FULL, Loading Done\\n',\n",
       " '*Jan 26 06:53:17: %OSPF-5-ADJCHG: Process 1, Nbr 60.135.202.220 on GigabitEthernet2/8 from LOADING to FULL, Loading Done\\n',\n",
       " '*Jan 26 06:53:17: %OSPF-5-ADJCHG: Process 1, Nbr 110.79.134.230 on GigabitEthernet2/11 from LOADING to FULL, Loading Done\\n',\n",
       " '*Jan 26 06:53:19: %OSPF-5-ADJCHG: Process 1, Nbr 110.79.134.249 on TenGigabitEthernet7/11 from LOADING to FULL, Loading Done\\n',\n",
       " '*Jan 26 06:53:21: %BGP-3-NOTIFICATION: received from neighbor 110.79.134.225 6/5 (cease) 0 bytes \\n',\n",
       " '*Jan 26 06:53:23: %BGP-3-NOTIFICATION: received from neighbor 110.79.134.224 6/5 (cease) 0 bytes \\n',\n",
       " '*Jan 26 06:53:32: %BGP-3-NOTIFICATION: received from neighbor 110.79.134.225 6/5 (cease) 0 bytes \\n',\n",
       " '*Jan 26 06:53:36: %BGP-3-NOTIFICATION: received from neighbor 110.79.134.224 6/5 (cease) 0 bytes \\n',\n",
       " '*Jan 26 06:53:40: %BGP-3-NOTIFICATION: received from neighbor 110.79.134.225 6/5 (cease) 0 bytes \\n',\n",
       " '*Jan 26 06:53:45: %BGP-3-NOTIFICATION: received from neighbor 110.79.134.224 6/5 (cease) 0 bytes \\n',\n",
       " '*Jan 26 06:53:49: %BGP-3-NOTIFICATION: received from neighbor 110.79.134.225 6/5 (cease) 0 bytes \\n',\n",
       " '*Jan 26 06:53:53: %BGP-3-NOTIFICATION: received from neighbor 110.79.134.224 6/5 (cease) 0 bytes \\n',\n",
       " '*Jan 26 06:53:58: %OSPF-5-ADJCHG: Process 1, Nbr 60.135.202.220 on GigabitEthernet2/8 from FULL to DOWN, Neighbor Down: Dead timer expired\\n',\n",
       " '*Jan 26 06:53:59: %OSPF-5-ADJCHG: Process 1, Nbr 110.79.134.249 on TenGigabitEthernet7/11 from FULL to DOWN, Neighbor Down: Dead timer expired\\n',\n",
       " '*Jan 26 06:53:59: %OSPF-5-ADJCHG: Process 1, Nbr 110.79.134.230 on GigabitEthernet2/11 from FULL to DOWN, Neighbor Down: Dead timer expired\\n',\n",
       " '*Jan 26 06:54:00: %OSPF-5-ADJCHG: Process 1, Nbr 110.79.135.33 on Vlan168 from FULL to DOWN, Neighbor Down: Dead timer expired\\n',\n",
       " '*Jan 26 06:54:00: %OSPF-5-ADJCHG: Process 1, Nbr 110.79.135.33 on Vlan165 from FULL to DOWN, Neighbor Down: Dead timer expired\\n',\n",
       " '*Jan 26 06:54:00: %OSPF-5-ADJCHG: Process 1, Nbr 110.79.135.33 on GigabitEthernet2/3 from FULL to DOWN, Neighbor Down: Dead timer expired\\n',\n",
       " '*Jan 26 06:56:37: %OSPF-5-ADJCHG: Process 1, Nbr 110.112.32.37 on Port-channel1 from LOADING to FULL, Loading Done\\n',\n",
       " '*Jan 26 06:56:37: %OSPF-5-ADJCHG: Process 1, Nbr 110.79.134.230 on Vlan142 from LOADING to FULL, Loading Done\\n',\n",
       " '*Jan 26 06:56:37: %OSPF-5-ADJCHG: Process 1, Nbr 110.79.134.230 on GigabitEthernet2/11 from LOADING to FULL, Loading Done\\n',\n",
       " '*Jan 26 06:56:37: %OSPF-5-ADJCHG: Process 1, Nbr 110.79.135.94 on TenGigabitEthernet7/3 from LOADING to FULL, Loading Done\\n',\n",
       " '*Jan 26 06:56:37: %OSPF-5-ADJCHG: Process 1, Nbr 110.79.134.228 on TenGigabitEthernet7/2 from LOADING to FULL, Loading Done\\n',\n",
       " '*Jan 26 06:56:37: %OSPF-5-ADJCHG: Process 1, Nbr 110.79.134.226 on Vlan120 from LOADING to FULL, Loading Done\\n',\n",
       " '*Jan 26 06:56:37: %OSPF-5-ADJCHG: Process 1, Nbr 110.79.134.249 on TenGigabitEthernet7/11 from LOADING to FULL, Loading Done\\n',\n",
       " '*Jan 26 06:56:37: %OSPF-5-ADJCHG: Process 1, Nbr 110.79.134.248 on TenGigabitEthernet7/10 from LOADING to FULL, Loading Done\\n',\n",
       " '*Jan 26 06:56:37: %OSPF-5-ADJCHG: Process 1, Nbr 110.112.32.218 on TenGigabitEthernet3/1 from LOADING to FULL, Loading Done\\n',\n",
       " '*Jan 26 06:56:37: %OSPF-5-ADJCHG: Process 1, Nbr 110.79.135.33 on Vlan165 from LOADING to FULL, Loading Done\\n',\n",
       " '*Jan 26 06:56:37: %OSPF-5-ADJCHG: Process 1, Nbr 110.79.135.33 on GigabitEthernet2/3 from LOADING to FULL, Loading Done\\n',\n",
       " '*Jan 26 06:56:37: %OSPF-5-ADJCHG: Process 1, Nbr 110.79.135.33 on Vlan168 from LOADING to FULL, Loading Done\\n',\n",
       " '*Jan 26 06:56:37: %OSPF-5-ADJCHG: Process 1, Nbr 60.135.202.220 on GigabitEthernet2/8 from LOADING to FULL, Loading Done\\n',\n",
       " '*Jan 26 06:56:38: %OSPF-5-ADJCHG: Process 1, Nbr 110.112.32.242 on TenGigabitEthernet4/3 from LOADING to FULL, Loading Done\\n',\n",
       " '*Jan 26 06:56:38: %OSPF-5-ADJCHG: Process 1, Nbr 110.79.134.232 on Vlan134 from LOADING to FULL, Loading Done\\n',\n",
       " '*Jan 26 06:56:38: %OSPF-5-ADJCHG: Process 1, Nbr 60.135.202.220 on Vlan144 from LOADING to FULL, Loading Done\\n',\n",
       " '*Jan 26 06:56:38: %OSPF-5-ADJCHG: Process 1, Nbr 110.79.134.241 on Vlan135 from LOADING to FULL, Loading Done\\n',\n",
       " '*Jan 26 06:57:01: %BGP-3-NOTIFICATION: sent to neighbor 110.79.134.225 4/0 (hold time expired) 0 bytes \\n',\n",
       " '*Jan 26 06:57:02: %BGP-3-NOTIFICATION: sent to neighbor 110.79.134.224 4/0 (hold time expired) 0 bytes \\n',\n",
       " '*Jan 26 06:57:04: %BGP-5-ADJCHANGE: neighbor 110.79.134.232 Up \\n',\n",
       " '*Jan 26 06:57:24: %BGP-5-ADJCHANGE: neighbor 110.79.134.225 Up \\n',\n",
       " '*Jan 26 06:57:27: %BGP-5-ADJCHANGE: neighbor 110.79.134.224 Up \\n',\n",
       " '*Jan 26 06:58:32: %PFREDUN-SP-6-ACTIVE: Standby initializing for SSO mode\\n',\n",
       " '*Jan 26 06:58:32: %SYS-SP-3-LOGGER_FLUSHED: System was paused for 00:00:00 to ensure console debugging output.\\n',\n",
       " \"*Jan 26 06:58:47: %PFINIT-SP-5-CONFIG_SYNC: Sync'ing the startup configuration to the standby Router. \\n\",\n",
       " '*Jan 26 06:59:37: %FABRIC-SP-5-CLEAR_BLOCK: Clear block option is off for the fabric in slot 5.\\n',\n",
       " '*Jan 26 06:59:37: %FABRIC-SP-5-FABRIC_MODULE_BACKUP: The Switch Fabric Module in slot 5 became standby\\n',\n",
       " '*Jan 26 06:59:38: %DIAG-SP-6-RUN_MINIMUM: Module 5: Running Minimal Diagnostics...\\n',\n",
       " '*Jan 26 06:59:40: %DIAG-SP-6-DIAG_OK: Module 5: Passed Online Diagnostics\\n',\n",
       " '*Jan 26 06:59:42: %SNMP-5-MODULETRAP: Module 5 [Up] Trap\\n',\n",
       " '*Jan 26 06:59:42: %OIR-SP-6-INSCARD: Card inserted in slot 5, interfaces are now online\\n',\n",
       " '*Jan 26 07:00:54: %HA_CONFIG_SYNC-6-BULK_CFGSYNC_SUCCEED: Bulk Sync succeeded\\n',\n",
       " '*Jan 26 07:00:53: %PFREDUN-SPSTBY-6-STANDBY: Ready for SSO mode\\n',\n",
       " '*Jan 26 07:00:54: %RF-SP-5-RF_TERMINAL_STATE: Terminal state reached for (SSO)\\n',\n",
       " '*Jan 26 07:00:53: %SYS-SPSTBY-3-LOGGER_FLUSHED: System was paused for 00:00:00 to ensure console debugging output.']"
      ]
     },
     "execution_count": 63,
     "metadata": {},
     "output_type": "execute_result"
    }
   ],
   "source": [
    "res"
   ]
  },
  {
   "cell_type": "code",
   "execution_count": 64,
   "metadata": {},
   "outputs": [],
   "source": [
    "label = np.ones(5)"
   ]
  },
  {
   "cell_type": "code",
   "execution_count": 66,
   "metadata": {},
   "outputs": [],
   "source": [
    "label[3] = 0"
   ]
  },
  {
   "cell_type": "code",
   "execution_count": 67,
   "metadata": {},
   "outputs": [
    {
     "data": {
      "text/plain": [
       "array([1., 1., 1., 0., 1.])"
      ]
     },
     "execution_count": 67,
     "metadata": {},
     "output_type": "execute_result"
    }
   ],
   "source": [
    "label"
   ]
  },
  {
   "cell_type": "markdown",
   "metadata": {},
   "source": [
    "## 矩阵运算\n",
    "* 矩阵加减法\n",
    "* 矩阵乘法\n",
    "* 矩阵转置\n",
    "\n",
    "### 矩阵与数、矢量的加减法"
   ]
  },
  {
   "cell_type": "code",
   "execution_count": null,
   "metadata": {},
   "outputs": [],
   "source": [
    "num = 9\n",
    "array = np.array([[2],[3],[2]])\n",
    "M_A = np.ones((3,3))\n",
    "M_B = np.random.random((3,3))\n",
    "\n",
    "# 数和矩阵加减法\n",
    "print(num + M_A)\n",
    "print(num - M_A)\n",
    "\n",
    "# 矢量和矩阵的加减法\n",
    "print(M_A + array)\n",
    "print(M_A - array)\n",
    "\n",
    "# 矩阵加减法\n",
    "print(M_A + M_B)\n",
    "print(M_A - M_B)"
   ]
  },
  {
   "cell_type": "markdown",
   "metadata": {},
   "source": [
    "### 矩阵与数、矢量的乘法"
   ]
  },
  {
   "cell_type": "code",
   "execution_count": null,
   "metadata": {},
   "outputs": [],
   "source": [
    "num = 9\n",
    "array = np.array([[2],[3],[2]])\n",
    "M_A = np.ones((3,3))\n",
    "M_B = np.random.random((3,3))\n",
    "\n",
    "# 数和矩阵的乘法\n",
    "print(M_A * num)\n",
    "\n",
    "# 矢量和矩阵的积\n",
    "print(M_A * array)\n",
    "\n",
    "# 矩阵和矩阵的积\n",
    "print(M_A * M_B)\n",
    "\n",
    "# 矢量和矩阵的乘法\n",
    "print(M_A.dot(array))\n",
    "\n",
    "# 矩阵和矩阵的乘法\n",
    "print(M_A.dot(M_B))"
   ]
  },
  {
   "cell_type": "code",
   "execution_count": null,
   "metadata": {},
   "outputs": [],
   "source": [
    "MX_A = np.random.random((7,10))\n",
    "MX_B = np.random.random((10,3))\n",
    "MX_C = MX_A.dot(MX_B)"
   ]
  },
  {
   "cell_type": "markdown",
   "metadata": {},
   "source": [
    "### 矩阵的转置"
   ]
  },
  {
   "cell_type": "code",
   "execution_count": null,
   "metadata": {},
   "outputs": [],
   "source": [
    "print(MX_C.shape)\n",
    "MX_D = MX_C.T\n",
    "print(MX_D.shape)"
   ]
  }
 ],
 "metadata": {
  "kernelspec": {
   "display_name": "Python 3",
   "language": "python",
   "name": "python3"
  },
  "language_info": {
   "codemirror_mode": {
    "name": "ipython",
    "version": 3
   },
   "file_extension": ".py",
   "mimetype": "text/x-python",
   "name": "python",
   "nbconvert_exporter": "python",
   "pygments_lexer": "ipython3",
   "version": "3.7.4"
  }
 },
 "nbformat": 4,
 "nbformat_minor": 2
}
